{
 "cells": [
  {
   "cell_type": "code",
   "execution_count": 1,
   "metadata": {},
   "outputs": [],
   "source": [
    "from datetime import datetime, date\n",
    "\n",
    "import pandas as pd\n",
    "import numpy as np\n",
    "import datetime \n",
    "import matplotlib.pyplot as plt\n",
    "plt.style.use('ggplot')\n",
    "import seaborn as sns\n",
    "import os\n",
    "import re\n",
    "import time\n",
    "from sklearn.model_selection import train_test_split\n",
    "\n",
    "# 忽略警告訊息\n",
    "import warnings\n",
    "warnings.filterwarnings('ignore')\n",
    "\n",
    "# 推薦名單需要的套件\n",
    "import turicreate as tc\n",
    "\n",
    "#  graphlab 安裝有點問題\n",
    "# import graphlab"
   ]
  },
  {
   "cell_type": "markdown",
   "metadata": {},
   "source": [
    "## 安裝教學\n",
    "\n",
    "安裝 graphlab 步驟 https://www.jianshu.com/p/65656ad89dc6\n",
    "\n",
    "安裝 graphlab要註冊帳號拿金鑰 5/13已註冊可提供一年權限\n",
    "輸入以下代碼：\n",
    "\n",
    "pip install --upgrade --no-cache-dir https://get.graphlab.com/GraphLab-Create/2.1/a942512005@gmail.com/8E42-3F71-D3DE-D16C-0D09-D9AA-B5B5-1CCD/GraphLab-Create-License.tar.gz"
   ]
  },
  {
   "cell_type": "code",
   "execution_count": 5,
   "metadata": {},
   "outputs": [
    {
     "data": {
      "text/html": [
       "<div>\n",
       "<style scoped>\n",
       "    .dataframe tbody tr th:only-of-type {\n",
       "        vertical-align: middle;\n",
       "    }\n",
       "\n",
       "    .dataframe tbody tr th {\n",
       "        vertical-align: top;\n",
       "    }\n",
       "\n",
       "    .dataframe thead th {\n",
       "        text-align: right;\n",
       "    }\n",
       "</style>\n",
       "<table border=\"1\" class=\"dataframe\">\n",
       "  <thead>\n",
       "    <tr style=\"text-align: right;\">\n",
       "      <th></th>\n",
       "      <th>member_id</th>\n",
       "      <th>細分類</th>\n",
       "      <th>market_qty</th>\n",
       "      <th>qty</th>\n",
       "    </tr>\n",
       "  </thead>\n",
       "  <tbody>\n",
       "    <tr>\n",
       "      <th>0</th>\n",
       "      <td>5</td>\n",
       "      <td>小吃</td>\n",
       "      <td>1</td>\n",
       "      <td>1</td>\n",
       "    </tr>\n",
       "    <tr>\n",
       "      <th>1</th>\n",
       "      <td>7</td>\n",
       "      <td>肉乾</td>\n",
       "      <td>6</td>\n",
       "      <td>3</td>\n",
       "    </tr>\n",
       "    <tr>\n",
       "      <th>2</th>\n",
       "      <td>12</td>\n",
       "      <td>小吃</td>\n",
       "      <td>6</td>\n",
       "      <td>3</td>\n",
       "    </tr>\n",
       "    <tr>\n",
       "      <th>3</th>\n",
       "      <td>12</td>\n",
       "      <td>肉乾</td>\n",
       "      <td>10</td>\n",
       "      <td>4</td>\n",
       "    </tr>\n",
       "    <tr>\n",
       "      <th>4</th>\n",
       "      <td>35</td>\n",
       "      <td>小吃</td>\n",
       "      <td>1</td>\n",
       "      <td>1</td>\n",
       "    </tr>\n",
       "  </tbody>\n",
       "</table>\n",
       "</div>"
      ],
      "text/plain": [
       "  member_id 細分類  market_qty  qty\n",
       "0         5  小吃           1    1\n",
       "1         7  肉乾           6    3\n",
       "2        12  小吃           6    3\n",
       "3        12  肉乾          10    4\n",
       "4        35  小吃           1    1"
      ]
     },
     "execution_count": 5,
     "metadata": {},
     "output_type": "execute_result"
    }
   ],
   "source": [
    "al2['qty'] = 0 # 先透過這種方式新增好欄位做準備，下面執行效能會好很多\n",
    "\n",
    "for idx, row in al2.iterrows():  # 請務必記得加上idx，不然跑回圈的item會變成(idx, row)\n",
    "    market_qty = row['market_qty']\n",
    "    if market_qty < 2:\n",
    "        qty = 1\n",
    "    elif market_qty < 4:\n",
    "        qty = 2\n",
    "    elif market_qty < 8:\n",
    "        qty = 3\n",
    "    elif market_qty < 15:\n",
    "        qty = 4\n",
    "    else: \n",
    "        qty = 5\n",
    "    al2.loc[idx, 'qty'] = qty   #r在for迴圈裡面   \n",
    "al2.head()    "
   ]
  },
  {
   "cell_type": "code",
   "execution_count": 6,
   "metadata": {},
   "outputs": [
    {
     "name": "stdout",
     "output_type": "stream",
     "text": [
      "   qty    count      比例\n",
      "0    1  35266.0  0.5250\n",
      "1    2  11040.0  0.1644\n",
      "2    3  10347.0  0.1540\n",
      "3    4   5329.0  0.0793\n",
      "4    5   5187.0  0.0772\n"
     ]
    }
   ],
   "source": [
    "alo = pd.DataFrame(al1.qty.value_counts()).reset_index()\n",
    "alo.columns= ['qty','count']\n",
    "\n",
    "alo[['count']] = alo[['count']].astype('float64')\n",
    "alo['比例']= np.round((alo['count'] / len(al1.member_id)),4)               \n",
    "print(alo.sort_values('qty',ascending = True))\n",
    "\n",
    "al4 = al1.copy() # 保留原本的 後續使用\n",
    "al2 = al1.drop(columns=['market_qty'], axis =1 ) #用此跑推薦"
   ]
  },
  {
   "cell_type": "code",
   "execution_count": 7,
   "metadata": {},
   "outputs": [
    {
     "name": "stdout",
     "output_type": "stream",
     "text": [
      "(64509, 67169)\n"
     ]
    },
    {
     "data": {
      "text/html": [
       "<div>\n",
       "<style scoped>\n",
       "    .dataframe tbody tr th:only-of-type {\n",
       "        vertical-align: middle;\n",
       "    }\n",
       "\n",
       "    .dataframe tbody tr th {\n",
       "        vertical-align: top;\n",
       "    }\n",
       "\n",
       "    .dataframe thead th {\n",
       "        text-align: right;\n",
       "    }\n",
       "</style>\n",
       "<table border=\"1\" class=\"dataframe\">\n",
       "  <thead>\n",
       "    <tr style=\"text-align: right;\">\n",
       "      <th></th>\n",
       "      <th>member_id</th>\n",
       "      <th>商品</th>\n",
       "      <th>qty</th>\n",
       "    </tr>\n",
       "  </thead>\n",
       "  <tbody>\n",
       "    <tr>\n",
       "      <th>0</th>\n",
       "      <td>5</td>\n",
       "      <td>小吃</td>\n",
       "      <td>1</td>\n",
       "    </tr>\n",
       "    <tr>\n",
       "      <th>1</th>\n",
       "      <td>7</td>\n",
       "      <td>肉乾</td>\n",
       "      <td>3</td>\n",
       "    </tr>\n",
       "    <tr>\n",
       "      <th>2</th>\n",
       "      <td>12</td>\n",
       "      <td>小吃</td>\n",
       "      <td>3</td>\n",
       "    </tr>\n",
       "    <tr>\n",
       "      <th>3</th>\n",
       "      <td>12</td>\n",
       "      <td>肉乾</td>\n",
       "      <td>4</td>\n",
       "    </tr>\n",
       "    <tr>\n",
       "      <th>4</th>\n",
       "      <td>35</td>\n",
       "      <td>小吃</td>\n",
       "      <td>1</td>\n",
       "    </tr>\n",
       "  </tbody>\n",
       "</table>\n",
       "</div>"
      ],
      "text/plain": [
       "  member_id  商品  qty\n",
       "0         5  小吃    1\n",
       "1         7  肉乾    3\n",
       "2        12  小吃    3\n",
       "3        12  肉乾    4\n",
       "4        35  小吃    1"
      ]
     },
     "execution_count": 7,
     "metadata": {},
     "output_type": "execute_result"
    }
   ],
   "source": [
    "old_most = al2.groupby(['member_id']).max().reset_index() #會員曾經買最多的商品 最後推薦會併\n",
    "old_most = old_most.rename(columns = {'細分類' : '商品'})\n",
    "\n",
    "print(len(al2.member_id.unique()),len(al2))\n",
    "al2 = al2.rename(columns = {'細分類' : '商品'})\n",
    "al2.head()"
   ]
  },
  {
   "cell_type": "markdown",
   "metadata": {},
   "source": [
    "###  推薦方法 "
   ]
  },
  {
   "cell_type": "code",
   "execution_count": 39,
   "metadata": {},
   "outputs": [],
   "source": [
    "al2 = tc.SFrame(al2)\n",
    "# Create train and test set\n",
    "train_data, test_data = tc.recommender.util.random_split_by_user(al2,user_id = 'member_id',\n",
    "                                                item_id = '商品', item_test_proportion=0.3, random_seed=221)\n",
    "# from sklearn.model_selection import train_test_split\n",
    "# train_data , test_data = train_test_split( al2 , test_size=0.3)\n",
    "# train_data = graphlab.SFrame(train_data)\n",
    "# test_data = graphlab.SFrame(test_data)"
   ]
  },
  {
   "cell_type": "markdown",
   "metadata": {},
   "source": [
    "### 流行度"
   ]
  },
  {
   "cell_type": "code",
   "execution_count": 40,
   "metadata": {},
   "outputs": [
    {
     "data": {
      "text/html": [
       "<pre>Preparing data set.</pre>"
      ],
      "text/plain": [
       "Preparing data set."
      ]
     },
     "metadata": {},
     "output_type": "display_data"
    },
    {
     "data": {
      "text/html": [
       "<pre>    Data has 66834 observations with 64191 users and 16 items.</pre>"
      ],
      "text/plain": [
       "    Data has 66834 observations with 64191 users and 16 items."
      ]
     },
     "metadata": {},
     "output_type": "display_data"
    },
    {
     "data": {
      "text/html": [
       "<pre>    Data prepared in: 0.175466s</pre>"
      ],
      "text/plain": [
       "    Data prepared in: 0.175466s"
      ]
     },
     "metadata": {},
     "output_type": "display_data"
    },
    {
     "data": {
      "text/html": [
       "<pre>66834 observations to process; with 16 unique items.</pre>"
      ],
      "text/plain": [
       "66834 observations to process; with 16 unique items."
      ]
     },
     "metadata": {},
     "output_type": "display_data"
    }
   ],
   "source": [
    "# Simple popularity-based recommender\n",
    "popularity_model = tc.popularity_recommender.create(train_data,user_id = 'member_id'\n",
    "                                    ,item_id='商品' ,target='qty')"
   ]
  },
  {
   "cell_type": "code",
   "execution_count": 41,
   "metadata": {},
   "outputs": [
    {
     "data": {
      "text/html": [
       "<div style=\"max-height:1000px;max-width:1500px;overflow:auto;\"><table frame=\"box\" rules=\"cols\">\n",
       "    <tr>\n",
       "        <th style=\"padding-left: 1em; padding-right: 1em; text-align: center\">member_id</th>\n",
       "        <th style=\"padding-left: 1em; padding-right: 1em; text-align: center\">商品</th>\n",
       "        <th style=\"padding-left: 1em; padding-right: 1em; text-align: center\">score</th>\n",
       "        <th style=\"padding-left: 1em; padding-right: 1em; text-align: center\">rank</th>\n",
       "    </tr>\n",
       "    <tr>\n",
       "        <td style=\"padding-left: 1em; padding-right: 1em; text-align: center; vertical-align: top\">5288</td>\n",
       "        <td style=\"padding-left: 1em; padding-right: 1em; text-align: center; vertical-align: top\">肉乾</td>\n",
       "        <td style=\"padding-left: 1em; padding-right: 1em; text-align: center; vertical-align: top\">2.83762032507</td>\n",
       "        <td style=\"padding-left: 1em; padding-right: 1em; text-align: center; vertical-align: top\">1</td>\n",
       "    </tr>\n",
       "    <tr>\n",
       "        <td style=\"padding-left: 1em; padding-right: 1em; text-align: center; vertical-align: top\">5288</td>\n",
       "        <td style=\"padding-left: 1em; padding-right: 1em; text-align: center; vertical-align: top\">麵包</td>\n",
       "        <td style=\"padding-left: 1em; padding-right: 1em; text-align: center; vertical-align: top\">2.81338742394</td>\n",
       "        <td style=\"padding-left: 1em; padding-right: 1em; text-align: center; vertical-align: top\">2</td>\n",
       "    </tr>\n",
       "    <tr>\n",
       "        <td style=\"padding-left: 1em; padding-right: 1em; text-align: center; vertical-align: top\">5288</td>\n",
       "        <td style=\"padding-left: 1em; padding-right: 1em; text-align: center; vertical-align: top\">餅乾</td>\n",
       "        <td style=\"padding-left: 1em; padding-right: 1em; text-align: center; vertical-align: top\">2.40307461567</td>\n",
       "        <td style=\"padding-left: 1em; padding-right: 1em; text-align: center; vertical-align: top\">3</td>\n",
       "    </tr>\n",
       "    <tr>\n",
       "        <td style=\"padding-left: 1em; padding-right: 1em; text-align: center; vertical-align: top\">5288</td>\n",
       "        <td style=\"padding-left: 1em; padding-right: 1em; text-align: center; vertical-align: top\">小吃</td>\n",
       "        <td style=\"padding-left: 1em; padding-right: 1em; text-align: center; vertical-align: top\">2.37938381413</td>\n",
       "        <td style=\"padding-left: 1em; padding-right: 1em; text-align: center; vertical-align: top\">4</td>\n",
       "    </tr>\n",
       "    <tr>\n",
       "        <td style=\"padding-left: 1em; padding-right: 1em; text-align: center; vertical-align: top\">5288</td>\n",
       "        <td style=\"padding-left: 1em; padding-right: 1em; text-align: center; vertical-align: top\">蛋捲</td>\n",
       "        <td style=\"padding-left: 1em; padding-right: 1em; text-align: center; vertical-align: top\">2.09652509653</td>\n",
       "        <td style=\"padding-left: 1em; padding-right: 1em; text-align: center; vertical-align: top\">5</td>\n",
       "    </tr>\n",
       "    <tr>\n",
       "        <td style=\"padding-left: 1em; padding-right: 1em; text-align: center; vertical-align: top\">5288</td>\n",
       "        <td style=\"padding-left: 1em; padding-right: 1em; text-align: center; vertical-align: top\">牛肉海鮮</td>\n",
       "        <td style=\"padding-left: 1em; padding-right: 1em; text-align: center; vertical-align: top\">1.85294117647</td>\n",
       "        <td style=\"padding-left: 1em; padding-right: 1em; text-align: center; vertical-align: top\">6</td>\n",
       "    </tr>\n",
       "    <tr>\n",
       "        <td style=\"padding-left: 1em; padding-right: 1em; text-align: center; vertical-align: top\">5288</td>\n",
       "        <td style=\"padding-left: 1em; padding-right: 1em; text-align: center; vertical-align: top\">包子</td>\n",
       "        <td style=\"padding-left: 1em; padding-right: 1em; text-align: center; vertical-align: top\">1.73698630137</td>\n",
       "        <td style=\"padding-left: 1em; padding-right: 1em; text-align: center; vertical-align: top\">7</td>\n",
       "    </tr>\n",
       "    <tr>\n",
       "        <td style=\"padding-left: 1em; padding-right: 1em; text-align: center; vertical-align: top\">5288</td>\n",
       "        <td style=\"padding-left: 1em; padding-right: 1em; text-align: center; vertical-align: top\">魚</td>\n",
       "        <td style=\"padding-left: 1em; padding-right: 1em; text-align: center; vertical-align: top\">1.53472882969</td>\n",
       "        <td style=\"padding-left: 1em; padding-right: 1em; text-align: center; vertical-align: top\">8</td>\n",
       "    </tr>\n",
       "    <tr>\n",
       "        <td style=\"padding-left: 1em; padding-right: 1em; text-align: center; vertical-align: top\">5288</td>\n",
       "        <td style=\"padding-left: 1em; padding-right: 1em; text-align: center; vertical-align: top\">素食小吃</td>\n",
       "        <td style=\"padding-left: 1em; padding-right: 1em; text-align: center; vertical-align: top\">1.38095238095</td>\n",
       "        <td style=\"padding-left: 1em; padding-right: 1em; text-align: center; vertical-align: top\">9</td>\n",
       "    </tr>\n",
       "    <tr>\n",
       "        <td style=\"padding-left: 1em; padding-right: 1em; text-align: center; vertical-align: top\">5288</td>\n",
       "        <td style=\"padding-left: 1em; padding-right: 1em; text-align: center; vertical-align: top\">蛋糕</td>\n",
       "        <td style=\"padding-left: 1em; padding-right: 1em; text-align: center; vertical-align: top\">1.33768844221</td>\n",
       "        <td style=\"padding-left: 1em; padding-right: 1em; text-align: center; vertical-align: top\">10</td>\n",
       "    </tr>\n",
       "</table>\n",
       "[10 rows x 4 columns]<br/>\n",
       "</div>"
      ],
      "text/plain": [
       "Columns:\n",
       "\tmember_id\tint\n",
       "\t商品\tstr\n",
       "\tscore\tfloat\n",
       "\trank\tint\n",
       "\n",
       "Rows: 10\n",
       "\n",
       "Data:\n",
       "+-----------+----------+---------------+------+\n",
       "| member_id |   商品   |     score     | rank |\n",
       "+-----------+----------+---------------+------+\n",
       "|    5288   |   肉乾   | 2.83762032507 |  1   |\n",
       "|    5288   |   麵包   | 2.81338742394 |  2   |\n",
       "|    5288   |   餅乾   | 2.40307461567 |  3   |\n",
       "|    5288   |   小吃   | 2.37938381413 |  4   |\n",
       "|    5288   |   蛋捲   | 2.09652509653 |  5   |\n",
       "|    5288   | 牛肉海鮮 | 1.85294117647 |  6   |\n",
       "|    5288   |   包子   | 1.73698630137 |  7   |\n",
       "|    5288   |    魚    | 1.53472882969 |  8   |\n",
       "|    5288   | 素食小吃 | 1.38095238095 |  9   |\n",
       "|    5288   |   蛋糕   | 1.33768844221 |  10  |\n",
       "+-----------+----------+---------------+------+\n",
       "[10 rows x 4 columns]"
      ]
     },
     "execution_count": 41,
     "metadata": {},
     "output_type": "execute_result"
    }
   ],
   "source": [
    "users = al2['member_id'].unique()                                          \n",
    "# Use the popularity model to make some predictions\n",
    "# popularity_model.recommend(users=[users[0...66343]])\n",
    "\n",
    "popularity_model.recommend(users=[users[6]])"
   ]
  },
  {
   "cell_type": "code",
   "execution_count": 42,
   "metadata": {},
   "outputs": [
    {
     "name": "stdout",
     "output_type": "stream",
     "text": [
      "+-----------+------+---------------+------+\n",
      "| member_id | 商品 |     score     | rank |\n",
      "+-----------+------+---------------+------+\n",
      "|     1     | 肉乾 | 2.83762032507 |  1   |\n",
      "|     1     | 麵包 | 2.81338742394 |  2   |\n",
      "|     1     | 餅乾 | 2.40307461567 |  3   |\n",
      "|     2     | 肉乾 | 2.83762032507 |  1   |\n",
      "|     2     | 麵包 | 2.81338742394 |  2   |\n",
      "|     2     | 餅乾 | 2.40307461567 |  3   |\n",
      "|     3     | 肉乾 | 2.83762032507 |  1   |\n",
      "|     3     | 麵包 | 2.81338742394 |  2   |\n",
      "|     3     | 餅乾 | 2.40307461567 |  3   |\n",
      "|     4     | 肉乾 | 2.83762032507 |  1   |\n",
      "|     4     | 麵包 | 2.81338742394 |  2   |\n",
      "|     4     | 餅乾 | 2.40307461567 |  3   |\n",
      "|     5     | 肉乾 | 2.83762032507 |  1   |\n",
      "|     5     | 麵包 | 2.81338742394 |  2   |\n",
      "|     5     | 餅乾 | 2.40307461567 |  3   |\n",
      "|     6     | 肉乾 | 2.83762032507 |  1   |\n",
      "|     6     | 麵包 | 2.81338742394 |  2   |\n",
      "|     6     | 餅乾 | 2.40307461567 |  3   |\n",
      "|     7     | 麵包 | 2.81338742394 |  1   |\n",
      "|     7     | 餅乾 | 2.40307461567 |  2   |\n",
      "|     7     | 小吃 | 2.37938381413 |  3   |\n",
      "|     8     | 肉乾 | 2.83762032507 |  1   |\n",
      "|     8     | 麵包 | 2.81338742394 |  2   |\n",
      "|     8     | 餅乾 | 2.40307461567 |  3   |\n",
      "|     9     | 肉乾 | 2.83762032507 |  1   |\n",
      "|     9     | 麵包 | 2.81338742394 |  2   |\n",
      "|     9     | 餅乾 | 2.40307461567 |  3   |\n",
      "+-----------+------+---------------+------+\n",
      "[27 rows x 4 columns]\n",
      "\n"
     ]
    }
   ],
   "source": [
    "# 基於流行度的模型得到推薦結果你會發現，不管你要推薦給那一個使用者，結果都會是一樣的\n",
    "popularity_recomm = popularity_model.recommend(users=range(1,10),k=3)\n",
    "\n",
    "popularity_recomm.print_rows(num_rows=27)"
   ]
  },
  {
   "cell_type": "code",
   "execution_count": 43,
   "metadata": {},
   "outputs": [
    {
     "data": {
      "text/html": [
       "<div style=\"max-height:1000px;max-width:1500px;overflow:auto;\"><table frame=\"box\" rules=\"cols\">\n",
       "    <tr>\n",
       "        <th style=\"padding-left: 1em; padding-right: 1em; text-align: center\">member_id</th>\n",
       "        <th style=\"padding-left: 1em; padding-right: 1em; text-align: center\">商品</th>\n",
       "        <th style=\"padding-left: 1em; padding-right: 1em; text-align: center\">score</th>\n",
       "        <th style=\"padding-left: 1em; padding-right: 1em; text-align: center\">rank</th>\n",
       "    </tr>\n",
       "    <tr>\n",
       "        <td style=\"padding-left: 1em; padding-right: 1em; text-align: center; vertical-align: top\">1</td>\n",
       "        <td style=\"padding-left: 1em; padding-right: 1em; text-align: center; vertical-align: top\">肉乾</td>\n",
       "        <td style=\"padding-left: 1em; padding-right: 1em; text-align: center; vertical-align: top\">2.83762032507</td>\n",
       "        <td style=\"padding-left: 1em; padding-right: 1em; text-align: center; vertical-align: top\">1</td>\n",
       "    </tr>\n",
       "    <tr>\n",
       "        <td style=\"padding-left: 1em; padding-right: 1em; text-align: center; vertical-align: top\">1</td>\n",
       "        <td style=\"padding-left: 1em; padding-right: 1em; text-align: center; vertical-align: top\">麵包</td>\n",
       "        <td style=\"padding-left: 1em; padding-right: 1em; text-align: center; vertical-align: top\">2.81338742394</td>\n",
       "        <td style=\"padding-left: 1em; padding-right: 1em; text-align: center; vertical-align: top\">2</td>\n",
       "    </tr>\n",
       "    <tr>\n",
       "        <td style=\"padding-left: 1em; padding-right: 1em; text-align: center; vertical-align: top\">1</td>\n",
       "        <td style=\"padding-left: 1em; padding-right: 1em; text-align: center; vertical-align: top\">餅乾</td>\n",
       "        <td style=\"padding-left: 1em; padding-right: 1em; text-align: center; vertical-align: top\">2.40307461567</td>\n",
       "        <td style=\"padding-left: 1em; padding-right: 1em; text-align: center; vertical-align: top\">3</td>\n",
       "    </tr>\n",
       "    <tr>\n",
       "        <td style=\"padding-left: 1em; padding-right: 1em; text-align: center; vertical-align: top\">2</td>\n",
       "        <td style=\"padding-left: 1em; padding-right: 1em; text-align: center; vertical-align: top\">肉乾</td>\n",
       "        <td style=\"padding-left: 1em; padding-right: 1em; text-align: center; vertical-align: top\">2.83762032507</td>\n",
       "        <td style=\"padding-left: 1em; padding-right: 1em; text-align: center; vertical-align: top\">1</td>\n",
       "    </tr>\n",
       "    <tr>\n",
       "        <td style=\"padding-left: 1em; padding-right: 1em; text-align: center; vertical-align: top\">2</td>\n",
       "        <td style=\"padding-left: 1em; padding-right: 1em; text-align: center; vertical-align: top\">麵包</td>\n",
       "        <td style=\"padding-left: 1em; padding-right: 1em; text-align: center; vertical-align: top\">2.81338742394</td>\n",
       "        <td style=\"padding-left: 1em; padding-right: 1em; text-align: center; vertical-align: top\">2</td>\n",
       "    </tr>\n",
       "    <tr>\n",
       "        <td style=\"padding-left: 1em; padding-right: 1em; text-align: center; vertical-align: top\">2</td>\n",
       "        <td style=\"padding-left: 1em; padding-right: 1em; text-align: center; vertical-align: top\">餅乾</td>\n",
       "        <td style=\"padding-left: 1em; padding-right: 1em; text-align: center; vertical-align: top\">2.40307461567</td>\n",
       "        <td style=\"padding-left: 1em; padding-right: 1em; text-align: center; vertical-align: top\">3</td>\n",
       "    </tr>\n",
       "    <tr>\n",
       "        <td style=\"padding-left: 1em; padding-right: 1em; text-align: center; vertical-align: top\">3</td>\n",
       "        <td style=\"padding-left: 1em; padding-right: 1em; text-align: center; vertical-align: top\">肉乾</td>\n",
       "        <td style=\"padding-left: 1em; padding-right: 1em; text-align: center; vertical-align: top\">2.83762032507</td>\n",
       "        <td style=\"padding-left: 1em; padding-right: 1em; text-align: center; vertical-align: top\">1</td>\n",
       "    </tr>\n",
       "    <tr>\n",
       "        <td style=\"padding-left: 1em; padding-right: 1em; text-align: center; vertical-align: top\">3</td>\n",
       "        <td style=\"padding-left: 1em; padding-right: 1em; text-align: center; vertical-align: top\">麵包</td>\n",
       "        <td style=\"padding-left: 1em; padding-right: 1em; text-align: center; vertical-align: top\">2.81338742394</td>\n",
       "        <td style=\"padding-left: 1em; padding-right: 1em; text-align: center; vertical-align: top\">2</td>\n",
       "    </tr>\n",
       "    <tr>\n",
       "        <td style=\"padding-left: 1em; padding-right: 1em; text-align: center; vertical-align: top\">3</td>\n",
       "        <td style=\"padding-left: 1em; padding-right: 1em; text-align: center; vertical-align: top\">餅乾</td>\n",
       "        <td style=\"padding-left: 1em; padding-right: 1em; text-align: center; vertical-align: top\">2.40307461567</td>\n",
       "        <td style=\"padding-left: 1em; padding-right: 1em; text-align: center; vertical-align: top\">3</td>\n",
       "    </tr>\n",
       "    <tr>\n",
       "        <td style=\"padding-left: 1em; padding-right: 1em; text-align: center; vertical-align: top\">4</td>\n",
       "        <td style=\"padding-left: 1em; padding-right: 1em; text-align: center; vertical-align: top\">肉乾</td>\n",
       "        <td style=\"padding-left: 1em; padding-right: 1em; text-align: center; vertical-align: top\">2.83762032507</td>\n",
       "        <td style=\"padding-left: 1em; padding-right: 1em; text-align: center; vertical-align: top\">1</td>\n",
       "    </tr>\n",
       "</table>\n",
       "[27 rows x 4 columns]<br/>Note: Only the head of the SFrame is printed.<br/>You can use print_rows(num_rows=m, num_columns=n) to print more rows and columns.\n",
       "</div>"
      ],
      "text/plain": [
       "Columns:\n",
       "\tmember_id\tint\n",
       "\t商品\tstr\n",
       "\tscore\tfloat\n",
       "\trank\tint\n",
       "\n",
       "Rows: 27\n",
       "\n",
       "Data:\n",
       "+-----------+------+---------------+------+\n",
       "| member_id | 商品 |     score     | rank |\n",
       "+-----------+------+---------------+------+\n",
       "|     1     | 肉乾 | 2.83762032507 |  1   |\n",
       "|     1     | 麵包 | 2.81338742394 |  2   |\n",
       "|     1     | 餅乾 | 2.40307461567 |  3   |\n",
       "|     2     | 肉乾 | 2.83762032507 |  1   |\n",
       "|     2     | 麵包 | 2.81338742394 |  2   |\n",
       "|     2     | 餅乾 | 2.40307461567 |  3   |\n",
       "|     3     | 肉乾 | 2.83762032507 |  1   |\n",
       "|     3     | 麵包 | 2.81338742394 |  2   |\n",
       "|     3     | 餅乾 | 2.40307461567 |  3   |\n",
       "|     4     | 肉乾 | 2.83762032507 |  1   |\n",
       "+-----------+------+---------------+------+\n",
       "[27 rows x 4 columns]\n",
       "Note: Only the head of the SFrame is printed.\n",
       "You can use print_rows(num_rows=m, num_columns=n) to print more rows and columns."
      ]
     },
     "execution_count": 43,
     "metadata": {},
     "output_type": "execute_result"
    }
   ],
   "source": [
    "popularity_recomm"
   ]
  },
  {
   "cell_type": "markdown",
   "metadata": {},
   "source": [
    "### 個性化"
   ]
  },
  {
   "cell_type": "code",
   "execution_count": 44,
   "metadata": {},
   "outputs": [
    {
     "data": {
      "text/html": [
       "<pre>Preparing data set.</pre>"
      ],
      "text/plain": [
       "Preparing data set."
      ]
     },
     "metadata": {},
     "output_type": "display_data"
    },
    {
     "data": {
      "text/html": [
       "<pre>    Data has 66834 observations with 64191 users and 16 items.</pre>"
      ],
      "text/plain": [
       "    Data has 66834 observations with 64191 users and 16 items."
      ]
     },
     "metadata": {},
     "output_type": "display_data"
    },
    {
     "data": {
      "text/html": [
       "<pre>    Data prepared in: 0.150316s</pre>"
      ],
      "text/plain": [
       "    Data prepared in: 0.150316s"
      ]
     },
     "metadata": {},
     "output_type": "display_data"
    },
    {
     "data": {
      "text/html": [
       "<pre>Training model from provided data.</pre>"
      ],
      "text/plain": [
       "Training model from provided data."
      ]
     },
     "metadata": {},
     "output_type": "display_data"
    },
    {
     "data": {
      "text/html": [
       "<pre>Gathering per-item and per-user statistics.</pre>"
      ],
      "text/plain": [
       "Gathering per-item and per-user statistics."
      ]
     },
     "metadata": {},
     "output_type": "display_data"
    },
    {
     "data": {
      "text/html": [
       "<pre>+--------------------------------+------------+</pre>"
      ],
      "text/plain": [
       "+--------------------------------+------------+"
      ]
     },
     "metadata": {},
     "output_type": "display_data"
    },
    {
     "data": {
      "text/html": [
       "<pre>| Elapsed Time (Item Statistics) | % Complete |</pre>"
      ],
      "text/plain": [
       "| Elapsed Time (Item Statistics) | % Complete |"
      ]
     },
     "metadata": {},
     "output_type": "display_data"
    }
   ],
   "source": [
    "# Build  recommender with personalization\n",
    "personalized_model = tc.item_similarity_recommender.create(train_data ,user_id = 'member_id',\n",
    "                                item_id='商品',target='qty',similarity_type='cosine')"
   ]
  },
  {
   "cell_type": "code",
   "execution_count": 45,
   "metadata": {},
   "outputs": [
    {
     "data": {
      "text/html": [
       "<pre>+--------------------------------+------------+</pre>"
      ],
      "text/plain": [
       "+--------------------------------+------------+"
      ]
     },
     "metadata": {},
     "output_type": "display_data"
    },
    {
     "data": {
      "text/html": [
       "<pre>| 815us                          | 1.5        |</pre>"
      ],
      "text/plain": [
       "| 815us                          | 1.5        |"
      ]
     },
     "metadata": {},
     "output_type": "display_data"
    },
    {
     "data": {
      "text/html": [
       "<pre>| 7.875ms                        | 100        |</pre>"
      ],
      "text/plain": [
       "| 7.875ms                        | 100        |"
      ]
     },
     "metadata": {},
     "output_type": "display_data"
    },
    {
     "data": {
      "text/html": [
       "<pre>+--------------------------------+------------+</pre>"
      ],
      "text/plain": [
       "+--------------------------------+------------+"
      ]
     },
     "metadata": {},
     "output_type": "display_data"
    },
    {
     "data": {
      "text/html": [
       "<pre>Setting up lookup tables.</pre>"
      ],
      "text/plain": [
       "Setting up lookup tables."
      ]
     },
     "metadata": {},
     "output_type": "display_data"
    },
    {
     "data": {
      "text/html": [
       "<pre>Processing data in one pass using dense lookup tables.</pre>"
      ],
      "text/plain": [
       "Processing data in one pass using dense lookup tables."
      ]
     },
     "metadata": {},
     "output_type": "display_data"
    },
    {
     "data": {
      "text/html": [
       "<pre>+-------------------------------------+------------------+-----------------+</pre>"
      ],
      "text/plain": [
       "+-------------------------------------+------------------+-----------------+"
      ]
     },
     "metadata": {},
     "output_type": "display_data"
    },
    {
     "data": {
      "text/html": [
       "<pre>| Elapsed Time (Constructing Lookups) | Total % Complete | Items Processed |</pre>"
      ],
      "text/plain": [
       "| Elapsed Time (Constructing Lookups) | Total % Complete | Items Processed |"
      ]
     },
     "metadata": {},
     "output_type": "display_data"
    },
    {
     "data": {
      "text/html": [
       "<pre>+-------------------------------------+------------------+-----------------+</pre>"
      ],
      "text/plain": [
       "+-------------------------------------+------------------+-----------------+"
      ]
     },
     "metadata": {},
     "output_type": "display_data"
    },
    {
     "data": {
      "text/html": [
       "<pre>| 8.765ms                             | 0                | 0               |</pre>"
      ],
      "text/plain": [
       "| 8.765ms                             | 0                | 0               |"
      ]
     },
     "metadata": {},
     "output_type": "display_data"
    },
    {
     "data": {
      "text/html": [
       "<pre>| 14.168ms                            | 100              | 16              |</pre>"
      ],
      "text/plain": [
       "| 14.168ms                            | 100              | 16              |"
      ]
     },
     "metadata": {},
     "output_type": "display_data"
    },
    {
     "data": {
      "text/html": [
       "<pre>+-------------------------------------+------------------+-----------------+</pre>"
      ],
      "text/plain": [
       "+-------------------------------------+------------------+-----------------+"
      ]
     },
     "metadata": {},
     "output_type": "display_data"
    },
    {
     "data": {
      "text/html": [
       "<pre>Finalizing lookup tables.</pre>"
      ],
      "text/plain": [
       "Finalizing lookup tables."
      ]
     },
     "metadata": {},
     "output_type": "display_data"
    },
    {
     "data": {
      "text/html": [
       "<pre>Generating candidate set for working with new users.</pre>"
      ],
      "text/plain": [
       "Generating candidate set for working with new users."
      ]
     },
     "metadata": {},
     "output_type": "display_data"
    },
    {
     "data": {
      "text/html": [
       "<pre>Finished training in 0.025224s</pre>"
      ],
      "text/plain": [
       "Finished training in 0.025224s"
      ]
     },
     "metadata": {},
     "output_type": "display_data"
    }
   ],
   "source": [
    "# result = tc.recommender.util.compare_models(test_data, \n",
    "#                      [popularity_model, personalized_model],user_sample=0.5, skip_set=train_data)"
   ]
  },
  {
   "cell_type": "code",
   "execution_count": 46,
   "metadata": {},
   "outputs": [
    {
     "name": "stdout",
     "output_type": "stream",
     "text": [
      "64503\n"
     ]
    },
    {
     "data": {
      "text/html": [
       "<div style=\"max-height:1000px;max-width:1500px;overflow:auto;\"><table frame=\"box\" rules=\"cols\">\n",
       "    <tr>\n",
       "        <th style=\"padding-left: 1em; padding-right: 1em; text-align: center\">member_id</th>\n",
       "        <th style=\"padding-left: 1em; padding-right: 1em; text-align: center\">商品</th>\n",
       "        <th style=\"padding-left: 1em; padding-right: 1em; text-align: center\">score</th>\n",
       "        <th style=\"padding-left: 1em; padding-right: 1em; text-align: center\">rank</th>\n",
       "    </tr>\n",
       "    <tr>\n",
       "        <td style=\"padding-left: 1em; padding-right: 1em; text-align: center; vertical-align: top\">57045</td>\n",
       "        <td style=\"padding-left: 1em; padding-right: 1em; text-align: center; vertical-align: top\">素食小吃</td>\n",
       "        <td style=\"padding-left: 1em; padding-right: 1em; text-align: center; vertical-align: top\">0.0549759864807</td>\n",
       "        <td style=\"padding-left: 1em; padding-right: 1em; text-align: center; vertical-align: top\">1</td>\n",
       "    </tr>\n",
       "    <tr>\n",
       "        <td style=\"padding-left: 1em; padding-right: 1em; text-align: center; vertical-align: top\">57045</td>\n",
       "        <td style=\"padding-left: 1em; padding-right: 1em; text-align: center; vertical-align: top\">雞肉</td>\n",
       "        <td style=\"padding-left: 1em; padding-right: 1em; text-align: center; vertical-align: top\">0.0451743602753</td>\n",
       "        <td style=\"padding-left: 1em; padding-right: 1em; text-align: center; vertical-align: top\">2</td>\n",
       "    </tr>\n",
       "</table>\n",
       "[2 rows x 4 columns]<br/>\n",
       "</div>"
      ],
      "text/plain": [
       "Columns:\n",
       "\tmember_id\tint\n",
       "\t商品\tstr\n",
       "\tscore\tfloat\n",
       "\trank\tint\n",
       "\n",
       "Rows: 2\n",
       "\n",
       "Data:\n",
       "+-----------+----------+-----------------+------+\n",
       "| member_id |   商品   |      score      | rank |\n",
       "+-----------+----------+-----------------+------+\n",
       "|   57045   | 素食小吃 | 0.0549759864807 |  1   |\n",
       "|   57045   |   雞肉   | 0.0451743602753 |  2   |\n",
       "+-----------+----------+-----------------+------+\n",
       "[2 rows x 4 columns]"
      ]
     },
     "execution_count": 46,
     "metadata": {},
     "output_type": "execute_result"
    }
   ],
   "source": [
    "# Applying the personalized model to make song recommendations\n",
    "users = al2['member_id'].unique()  \n",
    "print(len(al2['member_id'].unique()))\n",
    "\n",
    "# personalized_model.recommend(users=[users[0]])\n",
    "personalized_model.recommend(users = [users[6666]],k=2)"
   ]
  },
  {
   "cell_type": "code",
   "execution_count": 47,
   "metadata": {},
   "outputs": [
    {
     "data": {
      "text/html": [
       "<div style=\"max-height:1000px;max-width:1500px;overflow:auto;\"><table frame=\"box\" rules=\"cols\">\n",
       "    <tr>\n",
       "        <th style=\"padding-left: 1em; padding-right: 1em; text-align: center\">member_id</th>\n",
       "        <th style=\"padding-left: 1em; padding-right: 1em; text-align: center\">商品</th>\n",
       "        <th style=\"padding-left: 1em; padding-right: 1em; text-align: center\">score</th>\n",
       "        <th style=\"padding-left: 1em; padding-right: 1em; text-align: center\">rank</th>\n",
       "    </tr>\n",
       "    <tr>\n",
       "        <td style=\"padding-left: 1em; padding-right: 1em; text-align: center; vertical-align: top\">44010</td>\n",
       "        <td style=\"padding-left: 1em; padding-right: 1em; text-align: center; vertical-align: top\">素食小吃</td>\n",
       "        <td style=\"padding-left: 1em; padding-right: 1em; text-align: center; vertical-align: top\">0.164927959442</td>\n",
       "        <td style=\"padding-left: 1em; padding-right: 1em; text-align: center; vertical-align: top\">1</td>\n",
       "    </tr>\n",
       "    <tr>\n",
       "        <td style=\"padding-left: 1em; padding-right: 1em; text-align: center; vertical-align: top\">44010</td>\n",
       "        <td style=\"padding-left: 1em; padding-right: 1em; text-align: center; vertical-align: top\">雞肉</td>\n",
       "        <td style=\"padding-left: 1em; padding-right: 1em; text-align: center; vertical-align: top\">0.135523080826</td>\n",
       "        <td style=\"padding-left: 1em; padding-right: 1em; text-align: center; vertical-align: top\">2</td>\n",
       "    </tr>\n",
       "    <tr>\n",
       "        <td style=\"padding-left: 1em; padding-right: 1em; text-align: center; vertical-align: top\">44010</td>\n",
       "        <td style=\"padding-left: 1em; padding-right: 1em; text-align: center; vertical-align: top\">水果</td>\n",
       "        <td style=\"padding-left: 1em; padding-right: 1em; text-align: center; vertical-align: top\">0.0533623695374</td>\n",
       "        <td style=\"padding-left: 1em; padding-right: 1em; text-align: center; vertical-align: top\">3</td>\n",
       "    </tr>\n",
       "    <tr>\n",
       "        <td style=\"padding-left: 1em; padding-right: 1em; text-align: center; vertical-align: top\">44010</td>\n",
       "        <td style=\"padding-left: 1em; padding-right: 1em; text-align: center; vertical-align: top\">蝦子</td>\n",
       "        <td style=\"padding-left: 1em; padding-right: 1em; text-align: center; vertical-align: top\">0.0486159324646</td>\n",
       "        <td style=\"padding-left: 1em; padding-right: 1em; text-align: center; vertical-align: top\">4</td>\n",
       "    </tr>\n",
       "    <tr>\n",
       "        <td style=\"padding-left: 1em; padding-right: 1em; text-align: center; vertical-align: top\">44010</td>\n",
       "        <td style=\"padding-left: 1em; padding-right: 1em; text-align: center; vertical-align: top\">蛋捲</td>\n",
       "        <td style=\"padding-left: 1em; padding-right: 1em; text-align: center; vertical-align: top\">0.0457298755646</td>\n",
       "        <td style=\"padding-left: 1em; padding-right: 1em; text-align: center; vertical-align: top\">5</td>\n",
       "    </tr>\n",
       "</table>\n",
       "[5 rows x 4 columns]<br/>\n",
       "</div>"
      ],
      "text/plain": [
       "Columns:\n",
       "\tmember_id\tint\n",
       "\t商品\tstr\n",
       "\tscore\tfloat\n",
       "\trank\tint\n",
       "\n",
       "Rows: 5\n",
       "\n",
       "Data:\n",
       "+-----------+----------+-----------------+------+\n",
       "| member_id |   商品   |      score      | rank |\n",
       "+-----------+----------+-----------------+------+\n",
       "|   44010   | 素食小吃 |  0.164927959442 |  1   |\n",
       "|   44010   |   雞肉   |  0.135523080826 |  2   |\n",
       "|   44010   |   水果   | 0.0533623695374 |  3   |\n",
       "|   44010   |   蝦子   | 0.0486159324646 |  4   |\n",
       "|   44010   |   蛋捲   | 0.0457298755646 |  5   |\n",
       "+-----------+----------+-----------------+------+\n",
       "[5 rows x 4 columns]"
      ]
     },
     "execution_count": 47,
     "metadata": {},
     "output_type": "execute_result"
    }
   ],
   "source": [
    "personalized_model.recommend(users = [users[6724]],k=5)"
   ]
  },
  {
   "cell_type": "code",
   "execution_count": 48,
   "metadata": {},
   "outputs": [
    {
     "data": {
      "text/html": [
       "<div>\n",
       "<style scoped>\n",
       "    .dataframe tbody tr th:only-of-type {\n",
       "        vertical-align: middle;\n",
       "    }\n",
       "\n",
       "    .dataframe tbody tr th {\n",
       "        vertical-align: top;\n",
       "    }\n",
       "\n",
       "    .dataframe thead th {\n",
       "        text-align: right;\n",
       "    }\n",
       "</style>\n",
       "<table border=\"1\" class=\"dataframe\">\n",
       "  <thead>\n",
       "    <tr style=\"text-align: right;\">\n",
       "      <th></th>\n",
       "      <th>member_id</th>\n",
       "      <th>qty</th>\n",
       "      <th>商品</th>\n",
       "    </tr>\n",
       "  </thead>\n",
       "  <tbody>\n",
       "    <tr>\n",
       "      <th>49941</th>\n",
       "      <td>70546</td>\n",
       "      <td>1</td>\n",
       "      <td>水果</td>\n",
       "    </tr>\n",
       "  </tbody>\n",
       "</table>\n",
       "</div>"
      ],
      "text/plain": [
       "       member_id  qty  商品\n",
       "49941      70546    1  水果"
      ]
     },
     "execution_count": 48,
     "metadata": {},
     "output_type": "execute_result"
    }
   ],
   "source": [
    "al2 = pd.DataFrame(al2)\n",
    "al2.loc[al2.member_id == 70546]"
   ]
  },
  {
   "cell_type": "code",
   "execution_count": 49,
   "metadata": {},
   "outputs": [
    {
     "data": {
      "text/html": [
       "<pre>recommendations finished on 1000/64503 queries. users per second: 88370.4</pre>"
      ],
      "text/plain": [
       "recommendations finished on 1000/64503 queries. users per second: 88370.4"
      ]
     },
     "metadata": {},
     "output_type": "display_data"
    },
    {
     "data": {
      "text/html": [
       "<pre>recommendations finished on 2000/64503 queries. users per second: 163733</pre>"
      ],
      "text/plain": [
       "recommendations finished on 2000/64503 queries. users per second: 163733"
      ]
     },
     "metadata": {},
     "output_type": "display_data"
    },
    {
     "data": {
      "text/html": [
       "<pre>recommendations finished on 3000/64503 queries. users per second: 228120</pre>"
      ],
      "text/plain": [
       "recommendations finished on 3000/64503 queries. users per second: 228120"
      ]
     },
     "metadata": {},
     "output_type": "display_data"
    },
    {
     "data": {
      "text/html": [
       "<pre>recommendations finished on 4000/64503 queries. users per second: 284657</pre>"
      ],
      "text/plain": [
       "recommendations finished on 4000/64503 queries. users per second: 284657"
      ]
     },
     "metadata": {},
     "output_type": "display_data"
    },
    {
     "data": {
      "text/html": [
       "<pre>recommendations finished on 5000/64503 queries. users per second: 334986</pre>"
      ],
      "text/plain": [
       "recommendations finished on 5000/64503 queries. users per second: 334986"
      ]
     },
     "metadata": {},
     "output_type": "display_data"
    },
    {
     "data": {
      "text/html": [
       "<pre>recommendations finished on 6000/64503 queries. users per second: 373134</pre>"
      ],
      "text/plain": [
       "recommendations finished on 6000/64503 queries. users per second: 373134"
      ]
     },
     "metadata": {},
     "output_type": "display_data"
    },
    {
     "data": {
      "text/html": [
       "<pre>recommendations finished on 7000/64503 queries. users per second: 391981</pre>"
      ],
      "text/plain": [
       "recommendations finished on 7000/64503 queries. users per second: 391981"
      ]
     },
     "metadata": {},
     "output_type": "display_data"
    },
    {
     "data": {
      "text/html": [
       "<pre>recommendations finished on 8000/64503 queries. users per second: 373884</pre>"
      ],
      "text/plain": [
       "recommendations finished on 8000/64503 queries. users per second: 373884"
      ]
     },
     "metadata": {},
     "output_type": "display_data"
    },
    {
     "data": {
      "text/html": [
       "<pre>recommendations finished on 9000/64503 queries. users per second: 391253</pre>"
      ],
      "text/plain": [
       "recommendations finished on 9000/64503 queries. users per second: 391253"
      ]
     },
     "metadata": {},
     "output_type": "display_data"
    },
    {
     "data": {
      "text/html": [
       "<pre>recommendations finished on 10000/64503 queries. users per second: 411150</pre>"
      ],
      "text/plain": [
       "recommendations finished on 10000/64503 queries. users per second: 411150"
      ]
     },
     "metadata": {},
     "output_type": "display_data"
    },
    {
     "data": {
      "text/html": [
       "<pre>recommendations finished on 11000/64503 queries. users per second: 436976</pre>"
      ],
      "text/plain": [
       "recommendations finished on 11000/64503 queries. users per second: 436976"
      ]
     },
     "metadata": {},
     "output_type": "display_data"
    },
    {
     "data": {
      "text/html": [
       "<pre>recommendations finished on 12000/64503 queries. users per second: 462463</pre>"
      ],
      "text/plain": [
       "recommendations finished on 12000/64503 queries. users per second: 462463"
      ]
     },
     "metadata": {},
     "output_type": "display_data"
    },
    {
     "data": {
      "text/html": [
       "<pre>recommendations finished on 13000/64503 queries. users per second: 485981</pre>"
      ],
      "text/plain": [
       "recommendations finished on 13000/64503 queries. users per second: 485981"
      ]
     },
     "metadata": {},
     "output_type": "display_data"
    },
    {
     "data": {
      "text/html": [
       "<pre>recommendations finished on 14000/64503 queries. users per second: 508592</pre>"
      ],
      "text/plain": [
       "recommendations finished on 14000/64503 queries. users per second: 508592"
      ]
     },
     "metadata": {},
     "output_type": "display_data"
    },
    {
     "data": {
      "text/html": [
       "<pre>recommendations finished on 15000/64503 queries. users per second: 530279</pre>"
      ],
      "text/plain": [
       "recommendations finished on 15000/64503 queries. users per second: 530279"
      ]
     },
     "metadata": {},
     "output_type": "display_data"
    },
    {
     "data": {
      "text/html": [
       "<pre>recommendations finished on 16000/64503 queries. users per second: 550396</pre>"
      ],
      "text/plain": [
       "recommendations finished on 16000/64503 queries. users per second: 550396"
      ]
     },
     "metadata": {},
     "output_type": "display_data"
    },
    {
     "data": {
      "text/html": [
       "<pre>recommendations finished on 17000/64503 queries. users per second: 570451</pre>"
      ],
      "text/plain": [
       "recommendations finished on 17000/64503 queries. users per second: 570451"
      ]
     },
     "metadata": {},
     "output_type": "display_data"
    },
    {
     "data": {
      "text/html": [
       "<pre>recommendations finished on 18000/64503 queries. users per second: 592495</pre>"
      ],
      "text/plain": [
       "recommendations finished on 18000/64503 queries. users per second: 592495"
      ]
     },
     "metadata": {},
     "output_type": "display_data"
    },
    {
     "data": {
      "text/html": [
       "<pre>recommendations finished on 19000/64503 queries. users per second: 614390</pre>"
      ],
      "text/plain": [
       "recommendations finished on 19000/64503 queries. users per second: 614390"
      ]
     },
     "metadata": {},
     "output_type": "display_data"
    },
    {
     "data": {
      "text/html": [
       "<pre>recommendations finished on 20000/64503 queries. users per second: 634276</pre>"
      ],
      "text/plain": [
       "recommendations finished on 20000/64503 queries. users per second: 634276"
      ]
     },
     "metadata": {},
     "output_type": "display_data"
    },
    {
     "data": {
      "text/html": [
       "<pre>recommendations finished on 21000/64503 queries. users per second: 644884</pre>"
      ],
      "text/plain": [
       "recommendations finished on 21000/64503 queries. users per second: 644884"
      ]
     },
     "metadata": {},
     "output_type": "display_data"
    },
    {
     "data": {
      "text/html": [
       "<pre>recommendations finished on 22000/64503 queries. users per second: 640056</pre>"
      ],
      "text/plain": [
       "recommendations finished on 22000/64503 queries. users per second: 640056"
      ]
     },
     "metadata": {},
     "output_type": "display_data"
    },
    {
     "data": {
      "text/html": [
       "<pre>recommendations finished on 23000/64503 queries. users per second: 637437</pre>"
      ],
      "text/plain": [
       "recommendations finished on 23000/64503 queries. users per second: 637437"
      ]
     },
     "metadata": {},
     "output_type": "display_data"
    },
    {
     "data": {
      "text/html": [
       "<pre>recommendations finished on 24000/64503 queries. users per second: 644399</pre>"
      ],
      "text/plain": [
       "recommendations finished on 24000/64503 queries. users per second: 644399"
      ]
     },
     "metadata": {},
     "output_type": "display_data"
    },
    {
     "data": {
      "text/html": [
       "<pre>recommendations finished on 25000/64503 queries. users per second: 662374</pre>"
      ],
      "text/plain": [
       "recommendations finished on 25000/64503 queries. users per second: 662374"
      ]
     },
     "metadata": {},
     "output_type": "display_data"
    },
    {
     "data": {
      "text/html": [
       "<pre>recommendations finished on 26000/64503 queries. users per second: 679970</pre>"
      ],
      "text/plain": [
       "recommendations finished on 26000/64503 queries. users per second: 679970"
      ]
     },
     "metadata": {},
     "output_type": "display_data"
    },
    {
     "data": {
      "text/html": [
       "<pre>recommendations finished on 27000/64503 queries. users per second: 694552</pre>"
      ],
      "text/plain": [
       "recommendations finished on 27000/64503 queries. users per second: 694552"
      ]
     },
     "metadata": {},
     "output_type": "display_data"
    },
    {
     "data": {
      "text/html": [
       "<pre>recommendations finished on 28000/64503 queries. users per second: 706839</pre>"
      ],
      "text/plain": [
       "recommendations finished on 28000/64503 queries. users per second: 706839"
      ]
     },
     "metadata": {},
     "output_type": "display_data"
    },
    {
     "data": {
      "text/html": [
       "<pre>recommendations finished on 29000/64503 queries. users per second: 720175</pre>"
      ],
      "text/plain": [
       "recommendations finished on 29000/64503 queries. users per second: 720175"
      ]
     },
     "metadata": {},
     "output_type": "display_data"
    },
    {
     "data": {
      "text/html": [
       "<pre>recommendations finished on 30000/64503 queries. users per second: 733981</pre>"
      ],
      "text/plain": [
       "recommendations finished on 30000/64503 queries. users per second: 733981"
      ]
     },
     "metadata": {},
     "output_type": "display_data"
    },
    {
     "data": {
      "text/html": [
       "<pre>recommendations finished on 31000/64503 queries. users per second: 748648</pre>"
      ],
      "text/plain": [
       "recommendations finished on 31000/64503 queries. users per second: 748648"
      ]
     },
     "metadata": {},
     "output_type": "display_data"
    },
    {
     "data": {
      "text/html": [
       "<pre>recommendations finished on 32000/64503 queries. users per second: 763924</pre>"
      ],
      "text/plain": [
       "recommendations finished on 32000/64503 queries. users per second: 763924"
      ]
     },
     "metadata": {},
     "output_type": "display_data"
    },
    {
     "data": {
      "text/html": [
       "<pre>recommendations finished on 33000/64503 queries. users per second: 777349</pre>"
      ],
      "text/plain": [
       "recommendations finished on 33000/64503 queries. users per second: 777349"
      ]
     },
     "metadata": {},
     "output_type": "display_data"
    },
    {
     "data": {
      "text/html": [
       "<pre>recommendations finished on 34000/64503 queries. users per second: 791379</pre>"
      ],
      "text/plain": [
       "recommendations finished on 34000/64503 queries. users per second: 791379"
      ]
     },
     "metadata": {},
     "output_type": "display_data"
    },
    {
     "data": {
      "text/html": [
       "<pre>recommendations finished on 35000/64503 queries. users per second: 805023</pre>"
      ],
      "text/plain": [
       "recommendations finished on 35000/64503 queries. users per second: 805023"
      ]
     },
     "metadata": {},
     "output_type": "display_data"
    },
    {
     "data": {
      "text/html": [
       "<pre>recommendations finished on 36000/64503 queries. users per second: 818498</pre>"
      ],
      "text/plain": [
       "recommendations finished on 36000/64503 queries. users per second: 818498"
      ]
     },
     "metadata": {},
     "output_type": "display_data"
    },
    {
     "data": {
      "text/html": [
       "<pre>recommendations finished on 37000/64503 queries. users per second: 831648</pre>"
      ],
      "text/plain": [
       "recommendations finished on 37000/64503 queries. users per second: 831648"
      ]
     },
     "metadata": {},
     "output_type": "display_data"
    },
    {
     "data": {
      "text/html": [
       "<pre>recommendations finished on 38000/64503 queries. users per second: 844632</pre>"
      ],
      "text/plain": [
       "recommendations finished on 38000/64503 queries. users per second: 844632"
      ]
     },
     "metadata": {},
     "output_type": "display_data"
    },
    {
     "data": {
      "text/html": [
       "<pre>recommendations finished on 39000/64503 queries. users per second: 857369</pre>"
      ],
      "text/plain": [
       "recommendations finished on 39000/64503 queries. users per second: 857369"
      ]
     },
     "metadata": {},
     "output_type": "display_data"
    },
    {
     "data": {
      "text/html": [
       "<pre>recommendations finished on 40000/64503 queries. users per second: 868791</pre>"
      ],
      "text/plain": [
       "recommendations finished on 40000/64503 queries. users per second: 868791"
      ]
     },
     "metadata": {},
     "output_type": "display_data"
    },
    {
     "data": {
      "text/html": [
       "<pre>recommendations finished on 41000/64503 queries. users per second: 880963</pre>"
      ],
      "text/plain": [
       "recommendations finished on 41000/64503 queries. users per second: 880963"
      ]
     },
     "metadata": {},
     "output_type": "display_data"
    },
    {
     "data": {
      "text/html": [
       "<pre>recommendations finished on 42000/64503 queries. users per second: 892952</pre>"
      ],
      "text/plain": [
       "recommendations finished on 42000/64503 queries. users per second: 892952"
      ]
     },
     "metadata": {},
     "output_type": "display_data"
    },
    {
     "data": {
      "text/html": [
       "<pre>recommendations finished on 43000/64503 queries. users per second: 903665</pre>"
      ],
      "text/plain": [
       "recommendations finished on 43000/64503 queries. users per second: 903665"
      ]
     },
     "metadata": {},
     "output_type": "display_data"
    },
    {
     "data": {
      "text/html": [
       "<pre>recommendations finished on 44000/64503 queries. users per second: 914951</pre>"
      ],
      "text/plain": [
       "recommendations finished on 44000/64503 queries. users per second: 914951"
      ]
     },
     "metadata": {},
     "output_type": "display_data"
    },
    {
     "data": {
      "text/html": [
       "<pre>recommendations finished on 45000/64503 queries. users per second: 923911</pre>"
      ],
      "text/plain": [
       "recommendations finished on 45000/64503 queries. users per second: 923911"
      ]
     },
     "metadata": {},
     "output_type": "display_data"
    },
    {
     "data": {
      "text/html": [
       "<pre>recommendations finished on 46000/64503 queries. users per second: 924382</pre>"
      ],
      "text/plain": [
       "recommendations finished on 46000/64503 queries. users per second: 924382"
      ]
     },
     "metadata": {},
     "output_type": "display_data"
    },
    {
     "data": {
      "text/html": [
       "<pre>recommendations finished on 47000/64503 queries. users per second: 913491</pre>"
      ],
      "text/plain": [
       "recommendations finished on 47000/64503 queries. users per second: 913491"
      ]
     },
     "metadata": {},
     "output_type": "display_data"
    },
    {
     "data": {
      "text/html": [
       "<pre>recommendations finished on 48000/64503 queries. users per second: 907956</pre>"
      ],
      "text/plain": [
       "recommendations finished on 48000/64503 queries. users per second: 907956"
      ]
     },
     "metadata": {},
     "output_type": "display_data"
    },
    {
     "data": {
      "text/html": [
       "<pre>recommendations finished on 49000/64503 queries. users per second: 902162</pre>"
      ],
      "text/plain": [
       "recommendations finished on 49000/64503 queries. users per second: 902162"
      ]
     },
     "metadata": {},
     "output_type": "display_data"
    },
    {
     "data": {
      "text/html": [
       "<pre>recommendations finished on 50000/64503 queries. users per second: 889585</pre>"
      ],
      "text/plain": [
       "recommendations finished on 50000/64503 queries. users per second: 889585"
      ]
     },
     "metadata": {},
     "output_type": "display_data"
    },
    {
     "data": {
      "text/html": [
       "<pre>recommendations finished on 51000/64503 queries. users per second: 891453</pre>"
      ],
      "text/plain": [
       "recommendations finished on 51000/64503 queries. users per second: 891453"
      ]
     },
     "metadata": {},
     "output_type": "display_data"
    },
    {
     "data": {
      "text/html": [
       "<pre>recommendations finished on 52000/64503 queries. users per second: 893901</pre>"
      ],
      "text/plain": [
       "recommendations finished on 52000/64503 queries. users per second: 893901"
      ]
     },
     "metadata": {},
     "output_type": "display_data"
    },
    {
     "data": {
      "text/html": [
       "<pre>recommendations finished on 53000/64503 queries. users per second: 896497</pre>"
      ],
      "text/plain": [
       "recommendations finished on 53000/64503 queries. users per second: 896497"
      ]
     },
     "metadata": {},
     "output_type": "display_data"
    },
    {
     "data": {
      "text/html": [
       "<pre>recommendations finished on 54000/64503 queries. users per second: 773827</pre>"
      ],
      "text/plain": [
       "recommendations finished on 54000/64503 queries. users per second: 773827"
      ]
     },
     "metadata": {},
     "output_type": "display_data"
    },
    {
     "data": {
      "text/html": [
       "<pre>recommendations finished on 55000/64503 queries. users per second: 777100</pre>"
      ],
      "text/plain": [
       "recommendations finished on 55000/64503 queries. users per second: 777100"
      ]
     },
     "metadata": {},
     "output_type": "display_data"
    },
    {
     "data": {
      "text/html": [
       "<pre>recommendations finished on 56000/64503 queries. users per second: 780053</pre>"
      ],
      "text/plain": [
       "recommendations finished on 56000/64503 queries. users per second: 780053"
      ]
     },
     "metadata": {},
     "output_type": "display_data"
    },
    {
     "data": {
      "text/html": [
       "<pre>recommendations finished on 57000/64503 queries. users per second: 782709</pre>"
      ],
      "text/plain": [
       "recommendations finished on 57000/64503 queries. users per second: 782709"
      ]
     },
     "metadata": {},
     "output_type": "display_data"
    },
    {
     "data": {
      "text/html": [
       "<pre>recommendations finished on 58000/64503 queries. users per second: 785769</pre>"
      ],
      "text/plain": [
       "recommendations finished on 58000/64503 queries. users per second: 785769"
      ]
     },
     "metadata": {},
     "output_type": "display_data"
    },
    {
     "data": {
      "text/html": [
       "<pre>recommendations finished on 59000/64503 queries. users per second: 789182</pre>"
      ],
      "text/plain": [
       "recommendations finished on 59000/64503 queries. users per second: 789182"
      ]
     },
     "metadata": {},
     "output_type": "display_data"
    },
    {
     "data": {
      "text/html": [
       "<pre>recommendations finished on 60000/64503 queries. users per second: 792896</pre>"
      ],
      "text/plain": [
       "recommendations finished on 60000/64503 queries. users per second: 792896"
      ]
     },
     "metadata": {},
     "output_type": "display_data"
    },
    {
     "data": {
      "text/html": [
       "<pre>recommendations finished on 61000/64503 queries. users per second: 795908</pre>"
      ],
      "text/plain": [
       "recommendations finished on 61000/64503 queries. users per second: 795908"
      ]
     },
     "metadata": {},
     "output_type": "display_data"
    },
    {
     "data": {
      "text/html": [
       "<pre>recommendations finished on 62000/64503 queries. users per second: 798496</pre>"
      ],
      "text/plain": [
       "recommendations finished on 62000/64503 queries. users per second: 798496"
      ]
     },
     "metadata": {},
     "output_type": "display_data"
    },
    {
     "data": {
      "text/html": [
       "<pre>recommendations finished on 63000/64503 queries. users per second: 801792</pre>"
      ],
      "text/plain": [
       "recommendations finished on 63000/64503 queries. users per second: 801792"
      ]
     },
     "metadata": {},
     "output_type": "display_data"
    },
    {
     "data": {
      "text/html": [
       "<pre>recommendations finished on 64000/64503 queries. users per second: 802568</pre>"
      ],
      "text/plain": [
       "recommendations finished on 64000/64503 queries. users per second: 802568"
      ]
     },
     "metadata": {},
     "output_type": "display_data"
    }
   ],
   "source": [
    "#推薦商品 合起來\n",
    "recom = personalized_model.recommend(users = users,k = 1)\n",
    "\n",
    "df_rec1 = recom.to_dataframe()\n",
    "\n",
    "df_rec1['recommendedProducts'] = df_rec1.groupby(['member_id'])['商品'] \\\n",
    "            .transform(lambda x: ','.join(x.astype(str)))\n",
    "\n",
    "df_rec1 = df_rec1[['member_id', 'recommendedProducts']].drop_duplicates().sort_values('member_id').reset_index()\n",
    "\n",
    "df_rec1 = df_rec1.drop(columns=['index'])"
   ]
  },
  {
   "cell_type": "code",
   "execution_count": 50,
   "metadata": {},
   "outputs": [
    {
     "data": {
      "text/html": [
       "<div>\n",
       "<style scoped>\n",
       "    .dataframe tbody tr th:only-of-type {\n",
       "        vertical-align: middle;\n",
       "    }\n",
       "\n",
       "    .dataframe tbody tr th {\n",
       "        vertical-align: top;\n",
       "    }\n",
       "\n",
       "    .dataframe thead th {\n",
       "        text-align: right;\n",
       "    }\n",
       "</style>\n",
       "<table border=\"1\" class=\"dataframe\">\n",
       "  <thead>\n",
       "    <tr style=\"text-align: right;\">\n",
       "      <th></th>\n",
       "      <th>member_id</th>\n",
       "      <th>recommendedProducts</th>\n",
       "    </tr>\n",
       "  </thead>\n",
       "  <tbody>\n",
       "    <tr>\n",
       "      <th>64498</th>\n",
       "      <td>86937</td>\n",
       "      <td>小吃,補品</td>\n",
       "    </tr>\n",
       "    <tr>\n",
       "      <th>64499</th>\n",
       "      <td>86938</td>\n",
       "      <td>小吃,補品</td>\n",
       "    </tr>\n",
       "    <tr>\n",
       "      <th>64500</th>\n",
       "      <td>86939</td>\n",
       "      <td>蛋捲,餅乾</td>\n",
       "    </tr>\n",
       "    <tr>\n",
       "      <th>64501</th>\n",
       "      <td>86940</td>\n",
       "      <td>蛋捲,餅乾</td>\n",
       "    </tr>\n",
       "    <tr>\n",
       "      <th>64502</th>\n",
       "      <td>86941</td>\n",
       "      <td>素食小吃,小吃</td>\n",
       "    </tr>\n",
       "  </tbody>\n",
       "</table>\n",
       "</div>"
      ],
      "text/plain": [
       "       member_id recommendedProducts\n",
       "64498      86937               小吃,補品\n",
       "64499      86938               小吃,補品\n",
       "64500      86939               蛋捲,餅乾\n",
       "64501      86940               蛋捲,餅乾\n",
       "64502      86941             素食小吃,小吃"
      ]
     },
     "execution_count": 50,
     "metadata": {},
     "output_type": "execute_result"
    }
   ],
   "source": [
    "df_rec1 = pd.merge(df_rec1 , old_most, on ='member_id' ,how = 'inner' )\n",
    "df_rec1['recommendedProducts'] = df_rec1['recommendedProducts'].str.cat(df_rec1['商品'],sep=',')\n",
    "df_rec1 = df_rec1.drop(['qty','商品'],axis = 1)\n",
    "df_rec1.tail()"
   ]
  }
 ],
 "metadata": {
  "kernelspec": {
   "display_name": "Python 3",
   "language": "python",
   "name": "python3"
  },
  "language_info": {
   "codemirror_mode": {
    "name": "ipython",
    "version": 3
   },
   "file_extension": ".py",
   "mimetype": "text/x-python",
   "name": "python",
   "nbconvert_exporter": "python",
   "pygments_lexer": "ipython3",
   "version": "3.7.1"
  }
 },
 "nbformat": 4,
 "nbformat_minor": 2
}
