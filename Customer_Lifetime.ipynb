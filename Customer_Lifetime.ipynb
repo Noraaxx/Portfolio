{
 "cells": [
  {
   "cell_type": "code",
   "execution_count": 29,
   "metadata": {},
   "outputs": [],
   "source": [
    "# Import 需要的套件\n",
    "import os\n",
    "import numpy as np \n",
    "import pandas as pd\n",
    "import matplotlib.pyplot as plt\n",
    "%matplotlib inline\n",
    "\n",
    "# 忽略警告訊息\n",
    "import warnings\n",
    "warnings.filterwarnings('ignore')"
   ]
  },
  {
   "cell_type": "markdown",
   "metadata": {},
   "source": [
    "參考： https://medium.com/@peilee_98185/%E9%A1%A7%E5%AE%A2%E5%83%B9%E5%80%BC%E5%88%86%E6%9E%90-buy-till-you-die-with-python-9f911b5b3e97\n",
    "\n",
    "先下載 lifetimes套件"
   ]
  },
  {
   "cell_type": "code",
   "execution_count": 30,
   "metadata": {},
   "outputs": [],
   "source": [
    "# pip install lifetimes\n",
    "\n",
    "from lifetimes.plotting import *\n",
    "from lifetimes.utils import *\n",
    "#from lifetimes.estimation import *\n",
    "from lifetimes import *\n",
    "%matplotlib inline"
   ]
  },
  {
   "cell_type": "code",
   "execution_count": 31,
   "metadata": {},
   "outputs": [],
   "source": [
    "al = pd.read_csv('./al.csv')"
   ]
  },
  {
   "cell_type": "code",
   "execution_count": 32,
   "metadata": {},
   "outputs": [],
   "source": [
    "al = al.loc[al.sup_name!='團購']\n",
    "al = al.loc[al.orders_dt < '2018-11-01']\n",
    "\n",
    "base = al[['member_id','orders_dt','total_price']]\n",
    "\n",
    "# base.sort_values('orders_dt',ascending=False)"
   ]
  },
  {
   "cell_type": "code",
   "execution_count": 33,
   "metadata": {},
   "outputs": [],
   "source": [
    "# base = base.groupby(['member_id' , 'orders_dt']).total_price.sum()\n",
    "\n",
    "# base = pd.DataFrame(base).reset_index()\n",
    "\n",
    "# base.to_csv('./base.csv')"
   ]
  },
  {
   "cell_type": "code",
   "execution_count": 34,
   "metadata": {},
   "outputs": [],
   "source": [
    "# al.loc[al.member_id == 50502].sort_values('orders_dt').tail(8)"
   ]
  },
  {
   "cell_type": "code",
   "execution_count": 35,
   "metadata": {},
   "outputs": [
    {
     "data": {
      "text/html": [
       "<div>\n",
       "<style scoped>\n",
       "    .dataframe tbody tr th:only-of-type {\n",
       "        vertical-align: middle;\n",
       "    }\n",
       "\n",
       "    .dataframe tbody tr th {\n",
       "        vertical-align: top;\n",
       "    }\n",
       "\n",
       "    .dataframe thead th {\n",
       "        text-align: right;\n",
       "    }\n",
       "</style>\n",
       "<table border=\"1\" class=\"dataframe\">\n",
       "  <thead>\n",
       "    <tr style=\"text-align: right;\">\n",
       "      <th></th>\n",
       "      <th>frequency</th>\n",
       "      <th>recency</th>\n",
       "      <th>T</th>\n",
       "    </tr>\n",
       "    <tr>\n",
       "      <th>member_id</th>\n",
       "      <th></th>\n",
       "      <th></th>\n",
       "      <th></th>\n",
       "    </tr>\n",
       "  </thead>\n",
       "  <tbody>\n",
       "    <tr>\n",
       "      <th>5</th>\n",
       "      <td>0.0</td>\n",
       "      <td>0.0</td>\n",
       "      <td>706.0</td>\n",
       "    </tr>\n",
       "    <tr>\n",
       "      <th>12</th>\n",
       "      <td>2.0</td>\n",
       "      <td>375.0</td>\n",
       "      <td>671.0</td>\n",
       "    </tr>\n",
       "    <tr>\n",
       "      <th>35</th>\n",
       "      <td>0.0</td>\n",
       "      <td>0.0</td>\n",
       "      <td>744.0</td>\n",
       "    </tr>\n",
       "    <tr>\n",
       "      <th>46</th>\n",
       "      <td>0.0</td>\n",
       "      <td>0.0</td>\n",
       "      <td>359.0</td>\n",
       "    </tr>\n",
       "    <tr>\n",
       "      <th>56</th>\n",
       "      <td>2.0</td>\n",
       "      <td>317.0</td>\n",
       "      <td>609.0</td>\n",
       "    </tr>\n",
       "  </tbody>\n",
       "</table>\n",
       "</div>"
      ],
      "text/plain": [
       "           frequency  recency      T\n",
       "member_id                           \n",
       "5                0.0      0.0  706.0\n",
       "12               2.0    375.0  671.0\n",
       "35               0.0      0.0  744.0\n",
       "46               0.0      0.0  359.0\n",
       "56               2.0    317.0  609.0"
      ]
     },
     "execution_count": 35,
     "metadata": {},
     "output_type": "execute_result"
    }
   ],
   "source": [
    "data = summary_data_from_transaction_data(base, 'member_id', 'orders_dt',observation_period_end = '2018-10-31')\n",
    "data.head()"
   ]
  },
  {
   "cell_type": "code",
   "execution_count": 36,
   "metadata": {},
   "outputs": [
    {
     "data": {
      "text/plain": [
       "((97414, 3), (47021, 3))"
      ]
     },
     "execution_count": 36,
     "metadata": {},
     "output_type": "execute_result"
    }
   ],
   "source": [
    "base.shape ,data.shape"
   ]
  },
  {
   "cell_type": "code",
   "execution_count": 37,
   "metadata": {},
   "outputs": [
    {
     "data": {
      "text/html": [
       "<div>\n",
       "<style scoped>\n",
       "    .dataframe tbody tr th:only-of-type {\n",
       "        vertical-align: middle;\n",
       "    }\n",
       "\n",
       "    .dataframe tbody tr th {\n",
       "        vertical-align: top;\n",
       "    }\n",
       "\n",
       "    .dataframe thead th {\n",
       "        text-align: right;\n",
       "    }\n",
       "</style>\n",
       "<table border=\"1\" class=\"dataframe\">\n",
       "  <thead>\n",
       "    <tr style=\"text-align: right;\">\n",
       "      <th></th>\n",
       "      <th>member_id</th>\n",
       "      <th>orders_dt</th>\n",
       "      <th>total_price</th>\n",
       "    </tr>\n",
       "  </thead>\n",
       "  <tbody>\n",
       "    <tr>\n",
       "      <th>24744</th>\n",
       "      <td>50502</td>\n",
       "      <td>2017-12-21</td>\n",
       "      <td>1390</td>\n",
       "    </tr>\n",
       "    <tr>\n",
       "      <th>66885</th>\n",
       "      <td>50502</td>\n",
       "      <td>2018-01-26</td>\n",
       "      <td>109</td>\n",
       "    </tr>\n",
       "    <tr>\n",
       "      <th>66886</th>\n",
       "      <td>50502</td>\n",
       "      <td>2018-01-26</td>\n",
       "      <td>104</td>\n",
       "    </tr>\n",
       "    <tr>\n",
       "      <th>66887</th>\n",
       "      <td>50502</td>\n",
       "      <td>2018-01-26</td>\n",
       "      <td>369</td>\n",
       "    </tr>\n",
       "    <tr>\n",
       "      <th>66888</th>\n",
       "      <td>50502</td>\n",
       "      <td>2018-01-26</td>\n",
       "      <td>109</td>\n",
       "    </tr>\n",
       "    <tr>\n",
       "      <th>66889</th>\n",
       "      <td>50502</td>\n",
       "      <td>2018-01-26</td>\n",
       "      <td>109</td>\n",
       "    </tr>\n",
       "    <tr>\n",
       "      <th>110923</th>\n",
       "      <td>50502</td>\n",
       "      <td>2018-05-31</td>\n",
       "      <td>349</td>\n",
       "    </tr>\n",
       "    <tr>\n",
       "      <th>110924</th>\n",
       "      <td>50502</td>\n",
       "      <td>2018-05-31</td>\n",
       "      <td>105</td>\n",
       "    </tr>\n",
       "    <tr>\n",
       "      <th>110925</th>\n",
       "      <td>50502</td>\n",
       "      <td>2018-05-31</td>\n",
       "      <td>60</td>\n",
       "    </tr>\n",
       "    <tr>\n",
       "      <th>110926</th>\n",
       "      <td>50502</td>\n",
       "      <td>2018-05-31</td>\n",
       "      <td>55</td>\n",
       "    </tr>\n",
       "    <tr>\n",
       "      <th>110927</th>\n",
       "      <td>50502</td>\n",
       "      <td>2018-05-31</td>\n",
       "      <td>65</td>\n",
       "    </tr>\n",
       "  </tbody>\n",
       "</table>\n",
       "</div>"
      ],
      "text/plain": [
       "        member_id   orders_dt  total_price\n",
       "24744       50502  2017-12-21         1390\n",
       "66885       50502  2018-01-26          109\n",
       "66886       50502  2018-01-26          104\n",
       "66887       50502  2018-01-26          369\n",
       "66888       50502  2018-01-26          109\n",
       "66889       50502  2018-01-26          109\n",
       "110923      50502  2018-05-31          349\n",
       "110924      50502  2018-05-31          105\n",
       "110925      50502  2018-05-31           60\n",
       "110926      50502  2018-05-31           55\n",
       "110927      50502  2018-05-31           65"
      ]
     },
     "execution_count": 37,
     "metadata": {},
     "output_type": "execute_result"
    }
   ],
   "source": [
    "base.loc[base.member_id == 50502].sort_values('orders_dt')"
   ]
  },
  {
   "cell_type": "code",
   "execution_count": 38,
   "metadata": {},
   "outputs": [
    {
     "name": "stdout",
     "output_type": "stream",
     "text": [
      "count    47021.000\n",
      "mean         0.151\n",
      "std          0.596\n",
      "min          0.000\n",
      "25%          0.000\n",
      "50%          0.000\n",
      "75%          0.000\n",
      "max         44.000\n",
      "Name: frequency, dtype: float64\n",
      "0.8946640862593309\n"
     ]
    },
    {
     "data": {
      "image/png": "[encoded data removed]",
      "text/plain": [
       "<Figure size 432x288 with 1 Axes>"
      ]
     },
     "metadata": {
      "needs_background": "light"
     },
     "output_type": "display_data"
    }
   ],
   "source": [
    "data['frequency'].plot(kind='hist', bins=50)\n",
    "print(data['frequency'].describe())\n",
    "print(sum(data['frequency'] == 0)/float(len(data)))"
   ]
  },
  {
   "cell_type": "code",
   "execution_count": 39,
   "metadata": {},
   "outputs": [
    {
     "data": {
      "text/plain": [
       "<matplotlib.axes._subplots.AxesSubplot at 0x7f4cd54c2198>"
      ]
     },
     "execution_count": 39,
     "metadata": {},
     "output_type": "execute_result"
    },
    {
     "data": {
      "image/png": "[encoded data removed]",
      "text/plain": [
       "<Figure size 864x576 with 2 Axes>"
      ]
     },
     "metadata": {
      "needs_background": "light"
     },
     "output_type": "display_data"
    }
   ],
   "source": [
    "import matplotlib.pyplot as plt\n",
    "\n",
    "bgf = BetaGeoFitter(penalizer_coef=0.0)\n",
    "bgf.fit(data['frequency'], data['recency'], data['T'])\n",
    "fig = plt.figure(figsize=(12,8))\n",
    "plot_frequency_recency_matrix(bgf)"
   ]
  },
  {
   "cell_type": "code",
   "execution_count": 40,
   "metadata": {},
   "outputs": [
    {
     "data": {
      "text/plain": [
       "<matplotlib.axes._subplots.AxesSubplot at 0x7f4d0039fa20>"
      ]
     },
     "execution_count": 40,
     "metadata": {},
     "output_type": "execute_result"
    },
    {
     "data": {
      "image/png": "[encoded data removed]",
      "text/plain": [
       "<Figure size 864x576 with 2 Axes>"
      ]
     },
     "metadata": {
      "needs_background": "light"
     },
     "output_type": "display_data"
    }
   ],
   "source": [
    "fig = plt.figure(figsize=(12,8))\n",
    "plot_probability_alive_matrix(bgf)"
   ]
  },
  {
   "cell_type": "code",
   "execution_count": 41,
   "metadata": {},
   "outputs": [
    {
     "data": {
      "text/html": [
       "<div>\n",
       "<style scoped>\n",
       "    .dataframe tbody tr th:only-of-type {\n",
       "        vertical-align: middle;\n",
       "    }\n",
       "\n",
       "    .dataframe tbody tr th {\n",
       "        vertical-align: top;\n",
       "    }\n",
       "\n",
       "    .dataframe thead th {\n",
       "        text-align: right;\n",
       "    }\n",
       "</style>\n",
       "<table border=\"1\" class=\"dataframe\">\n",
       "  <thead>\n",
       "    <tr style=\"text-align: right;\">\n",
       "      <th></th>\n",
       "      <th>frequency</th>\n",
       "      <th>recency</th>\n",
       "      <th>T</th>\n",
       "      <th>predicted_purchases</th>\n",
       "    </tr>\n",
       "    <tr>\n",
       "      <th>member_id</th>\n",
       "      <th></th>\n",
       "      <th></th>\n",
       "      <th></th>\n",
       "      <th></th>\n",
       "    </tr>\n",
       "  </thead>\n",
       "  <tbody>\n",
       "    <tr>\n",
       "      <th>61766</th>\n",
       "      <td>8.0</td>\n",
       "      <td>126.0</td>\n",
       "      <td>162.0</td>\n",
       "      <td>0.751</td>\n",
       "    </tr>\n",
       "    <tr>\n",
       "      <th>36373</th>\n",
       "      <td>11.0</td>\n",
       "      <td>573.0</td>\n",
       "      <td>574.0</td>\n",
       "      <td>0.831</td>\n",
       "    </tr>\n",
       "    <tr>\n",
       "      <th>46281</th>\n",
       "      <td>11.0</td>\n",
       "      <td>330.0</td>\n",
       "      <td>366.0</td>\n",
       "      <td>0.912</td>\n",
       "    </tr>\n",
       "    <tr>\n",
       "      <th>42630</th>\n",
       "      <td>16.0</td>\n",
       "      <td>410.0</td>\n",
       "      <td>429.0</td>\n",
       "      <td>1.449</td>\n",
       "    </tr>\n",
       "    <tr>\n",
       "      <th>35506</th>\n",
       "      <td>44.0</td>\n",
       "      <td>590.0</td>\n",
       "      <td>604.0</td>\n",
       "      <td>3.321</td>\n",
       "    </tr>\n",
       "  </tbody>\n",
       "</table>\n",
       "</div>"
      ],
      "text/plain": [
       "           frequency  recency      T  predicted_purchases\n",
       "member_id                                                \n",
       "61766            8.0    126.0  162.0                0.751\n",
       "36373           11.0    573.0  574.0                0.831\n",
       "46281           11.0    330.0  366.0                0.912\n",
       "42630           16.0    410.0  429.0                1.449\n",
       "35506           44.0    590.0  604.0                3.321"
      ]
     },
     "execution_count": 41,
     "metadata": {},
     "output_type": "execute_result"
    }
   ],
   "source": [
    "np.set_printoptions(suppress=True) \n",
    "t = 60\n",
    "data['predicted_purchases'] = bgf.conditional_expected_number_of_purchases_up_to_time(t,\n",
    "                              data['frequency'], data['recency'], data['T'])\n",
    "data.sort_values(by='predicted_purchases').tail(5)"
   ]
  },
  {
   "cell_type": "code",
   "execution_count": 42,
   "metadata": {},
   "outputs": [],
   "source": [
    "#predicted_purchases： 預期購買數\n",
    "pd.set_option('display.precision',3)\n",
    "predicted_purchases = data.sort_values(by='predicted_purchases', ascending=False).reset_index()"
   ]
  },
  {
   "cell_type": "code",
   "execution_count": 57,
   "metadata": {},
   "outputs": [
    {
     "name": "stdout",
     "output_type": "stream",
     "text": [
      "(47021, 5)\n"
     ]
    },
    {
     "data": {
      "text/html": [
       "<div>\n",
       "<style scoped>\n",
       "    .dataframe tbody tr th:only-of-type {\n",
       "        vertical-align: middle;\n",
       "    }\n",
       "\n",
       "    .dataframe tbody tr th {\n",
       "        vertical-align: top;\n",
       "    }\n",
       "\n",
       "    .dataframe thead th {\n",
       "        text-align: right;\n",
       "    }\n",
       "</style>\n",
       "<table border=\"1\" class=\"dataframe\">\n",
       "  <thead>\n",
       "    <tr style=\"text-align: right;\">\n",
       "      <th></th>\n",
       "      <th>member_id</th>\n",
       "      <th>frequency</th>\n",
       "      <th>recency</th>\n",
       "      <th>T</th>\n",
       "      <th>predicted_purchases</th>\n",
       "    </tr>\n",
       "  </thead>\n",
       "  <tbody>\n",
       "    <tr>\n",
       "      <th>0</th>\n",
       "      <td>35506</td>\n",
       "      <td>44.0</td>\n",
       "      <td>590.0</td>\n",
       "      <td>604.0</td>\n",
       "      <td>3.321</td>\n",
       "    </tr>\n",
       "    <tr>\n",
       "      <th>1</th>\n",
       "      <td>42630</td>\n",
       "      <td>16.0</td>\n",
       "      <td>410.0</td>\n",
       "      <td>429.0</td>\n",
       "      <td>1.449</td>\n",
       "    </tr>\n",
       "    <tr>\n",
       "      <th>2</th>\n",
       "      <td>46281</td>\n",
       "      <td>11.0</td>\n",
       "      <td>330.0</td>\n",
       "      <td>366.0</td>\n",
       "      <td>0.912</td>\n",
       "    </tr>\n",
       "    <tr>\n",
       "      <th>3</th>\n",
       "      <td>36373</td>\n",
       "      <td>11.0</td>\n",
       "      <td>573.0</td>\n",
       "      <td>574.0</td>\n",
       "      <td>0.831</td>\n",
       "    </tr>\n",
       "    <tr>\n",
       "      <th>4</th>\n",
       "      <td>61766</td>\n",
       "      <td>8.0</td>\n",
       "      <td>126.0</td>\n",
       "      <td>162.0</td>\n",
       "      <td>0.751</td>\n",
       "    </tr>\n",
       "    <tr>\n",
       "      <th>5</th>\n",
       "      <td>36504</td>\n",
       "      <td>11.0</td>\n",
       "      <td>540.0</td>\n",
       "      <td>569.0</td>\n",
       "      <td>0.743</td>\n",
       "    </tr>\n",
       "    <tr>\n",
       "      <th>6</th>\n",
       "      <td>66070</td>\n",
       "      <td>3.0</td>\n",
       "      <td>66.0</td>\n",
       "      <td>72.0</td>\n",
       "      <td>0.698</td>\n",
       "    </tr>\n",
       "  </tbody>\n",
       "</table>\n",
       "</div>"
      ],
      "text/plain": [
       "   member_id  frequency  recency      T  predicted_purchases\n",
       "0      35506       44.0    590.0  604.0                3.321\n",
       "1      42630       16.0    410.0  429.0                1.449\n",
       "2      46281       11.0    330.0  366.0                0.912\n",
       "3      36373       11.0    573.0  574.0                0.831\n",
       "4      61766        8.0    126.0  162.0                0.751\n",
       "5      36504       11.0    540.0  569.0                0.743\n",
       "6      66070        3.0     66.0   72.0                0.698"
      ]
     },
     "execution_count": 57,
     "metadata": {},
     "output_type": "execute_result"
    }
   ],
   "source": [
    "# np.set_printoptions(suppress=True)\n",
    "print(predicted_purchases.shape)\n",
    "predicted_purchases.head(7)"
   ]
  },
  {
   "cell_type": "code",
   "execution_count": 44,
   "metadata": {},
   "outputs": [
    {
     "data": {
      "text/plain": [
       "<matplotlib.axes._subplots.AxesSubplot at 0x7f4cd541dcc0>"
      ]
     },
     "execution_count": 44,
     "metadata": {},
     "output_type": "execute_result"
    },
    {
     "data": {
      "image/png": "[encoded data removed]",
      "text/plain": [
       "<Figure size 432x288 with 1 Axes>"
      ]
     },
     "metadata": {
      "needs_background": "light"
     },
     "output_type": "display_data"
    }
   ],
   "source": [
    "plot_period_transactions(bgf)"
   ]
  },
  {
   "cell_type": "code",
   "execution_count": 45,
   "metadata": {},
   "outputs": [
    {
     "data": {
      "text/plain": [
       "<matplotlib.axes._subplots.AxesSubplot at 0x7f4cd5492ba8>"
      ]
     },
     "execution_count": 45,
     "metadata": {},
     "output_type": "execute_result"
    },
    {
     "data": {
      "image/png": "[encoded data removed]",
      "text/plain": [
       "<Figure size 432x288 with 1 Axes>"
      ]
     },
     "metadata": {
      "needs_background": "light"
     },
     "output_type": "display_data"
    }
   ],
   "source": [
    "summary_cal_holdout = calibration_and_holdout_data(base, 'member_id', 'orders_dt',\n",
    "                                calibration_period_end='2018-04-30',observation_period_end='2018-10-31' )\n",
    "\n",
    "bgf.fit(summary_cal_holdout['frequency_cal'],   \n",
    "        summary_cal_holdout['recency_cal'], \n",
    "        summary_cal_holdout['T_cal'])\n",
    "plot_calibration_purchases_vs_holdout_purchases(bgf, summary_cal_holdout)"
   ]
  },
  {
   "cell_type": "code",
   "execution_count": 59,
   "metadata": {},
   "outputs": [
    {
     "data": {
      "text/plain": [
       "0    788\n",
       "1    212\n",
       "Name: target, dtype: int64"
      ]
     },
     "execution_count": 59,
     "metadata": {},
     "output_type": "execute_result"
    }
   ],
   "source": [
    "# old = pd.read_csv('./old.csv')\n",
    "\n",
    "p1 = predicted_purchases.head(1000)\n",
    "\n",
    "pd.merge(p1,old, on = 'member_id' ,how='left').target.value_counts()"
   ]
  },
  {
   "cell_type": "code",
   "execution_count": null,
   "metadata": {},
   "outputs": [],
   "source": [
    "from lifetimes.plotting import plot_history_alive\n",
    "import matplotlib.pyplot as plt\n",
    "\n",
    "fig = plt.figure(figsize=(12,8))\n",
    "\n",
    "days_since_birth = 92\n",
    "\n",
    "sp_trans = base.loc[base['member_id'] == 82001]\n",
    "\n",
    "plot_history_alive(bgf,days_since_birth,sp_trans, 'orders_dt')"
   ]
  },
  {
   "cell_type": "markdown",
   "metadata": {},
   "source": [
    "### 客戶價值估算"
   ]
  },
  {
   "cell_type": "code",
   "execution_count": 19,
   "metadata": {},
   "outputs": [],
   "source": [
    "data2 = summary_data_from_transaction_data(base, 'member_id', 'orders_dt', \n",
    "                              monetary_value_col='total_price', observation_period_end='2018-10-31')"
   ]
  },
  {
   "cell_type": "code",
   "execution_count": 20,
   "metadata": {},
   "outputs": [],
   "source": [
    "returning_customers_summary = data2[ (data2['frequency'] > 0) & \n",
    "                                     (data2['monetary_value'] != 0)]"
   ]
  },
  {
   "cell_type": "code",
   "execution_count": 21,
   "metadata": {},
   "outputs": [],
   "source": [
    "#每個顧客未來單次購買可能的金額\n",
    "from lifetimes import GammaGammaFitter\n",
    "\n",
    "ggf = GammaGammaFitter(penalizer_coef = 0)\n",
    "ggf.fit(returning_customers_summary['frequency'], returning_customers_summary['monetary_value'])\n",
    "\n",
    "predicted_unitprice = ggf.conditional_expected_average_profit(returning_customers_summary['frequency'],\n",
    "                returning_customers_summary['monetary_value'])"
   ]
  },
  {
   "cell_type": "code",
   "execution_count": 22,
   "metadata": {},
   "outputs": [],
   "source": [
    "predicted_unitprice = pd.DataFrame(predicted_unitprice).reset_index()"
   ]
  },
  {
   "cell_type": "code",
   "execution_count": 23,
   "metadata": {},
   "outputs": [
    {
     "data": {
      "text/html": [
       "<div>\n",
       "<style scoped>\n",
       "    .dataframe tbody tr th:only-of-type {\n",
       "        vertical-align: middle;\n",
       "    }\n",
       "\n",
       "    .dataframe tbody tr th {\n",
       "        vertical-align: top;\n",
       "    }\n",
       "\n",
       "    .dataframe thead th {\n",
       "        text-align: right;\n",
       "    }\n",
       "</style>\n",
       "<table border=\"1\" class=\"dataframe\">\n",
       "  <thead>\n",
       "    <tr style=\"text-align: right;\">\n",
       "      <th></th>\n",
       "      <th>member_id</th>\n",
       "      <th>predicted_unitprice</th>\n",
       "    </tr>\n",
       "  </thead>\n",
       "  <tbody>\n",
       "    <tr>\n",
       "      <th>0</th>\n",
       "      <td>12</td>\n",
       "      <td>1351.849</td>\n",
       "    </tr>\n",
       "    <tr>\n",
       "      <th>1</th>\n",
       "      <td>56</td>\n",
       "      <td>595.520</td>\n",
       "    </tr>\n",
       "    <tr>\n",
       "      <th>2</th>\n",
       "      <td>57</td>\n",
       "      <td>1483.306</td>\n",
       "    </tr>\n",
       "    <tr>\n",
       "      <th>3</th>\n",
       "      <td>59</td>\n",
       "      <td>1687.619</td>\n",
       "    </tr>\n",
       "    <tr>\n",
       "      <th>4</th>\n",
       "      <td>98</td>\n",
       "      <td>1078.268</td>\n",
       "    </tr>\n",
       "  </tbody>\n",
       "</table>\n",
       "</div>"
      ],
      "text/plain": [
       "   member_id  predicted_unitprice\n",
       "0         12             1351.849\n",
       "1         56              595.520\n",
       "2         57             1483.306\n",
       "3         59             1687.619\n",
       "4         98             1078.268"
      ]
     },
     "execution_count": 23,
     "metadata": {},
     "output_type": "execute_result"
    }
   ],
   "source": [
    "predicted_unitprice.columns = ['member_id','predicted_unitprice']\n",
    "predicted_unitprice.head(5)"
   ]
  },
  {
   "cell_type": "code",
   "execution_count": 24,
   "metadata": {},
   "outputs": [],
   "source": [
    "true = base.loc[base.orders_dt > '2018-12-23']\n",
    "true = true.groupby(['member_id' , 'orders_dt']).total_price.sum()\n",
    "\n",
    "true = pd.DataFrame(true).reset_index()"
   ]
  },
  {
   "cell_type": "code",
   "execution_count": 28,
   "metadata": {},
   "outputs": [],
   "source": [
    "merge = pd.merge(true,predicted_unitprice,on = 'member_id', how = 'inner')"
   ]
  },
  {
   "cell_type": "code",
   "execution_count": 26,
   "metadata": {},
   "outputs": [
    {
     "data": {
      "text/plain": [
       "49.59502200827294"
      ]
     },
     "execution_count": 26,
     "metadata": {},
     "output_type": "execute_result"
    }
   ],
   "source": [
    "def mean_absolute_percentage_error(y_true, y_pred): \n",
    "    y_true, y_pred = np.array(y_true), np.array(y_pred)\n",
    "    return np.mean(np.abs((y_true - y_pred) / y_true)) * 100\n",
    "\n",
    "mean_absolute_percentage_error(merge.total_price, merge.predicted_unitprice)"
   ]
  },
  {
   "cell_type": "code",
   "execution_count": 27,
   "metadata": {},
   "outputs": [
    {
     "name": "stdout",
     "output_type": "stream",
     "text": [
      "MAE:  947.6817819234146\n",
      "MSE:  10114610.919631826\n",
      "R-square:  -2.5243653489721467\n"
     ]
    }
   ],
   "source": [
    "from sklearn import metrics, datasets\n",
    "\n",
    "mae = metrics.mean_absolute_error(merge.predicted_unitprice, merge.total_price) # 使用 MAE 評估\n",
    "\n",
    "mse = metrics.mean_squared_error(merge.predicted_unitprice, merge.total_price) # 使用 MSE 評估\n",
    "\n",
    "r2 = metrics.r2_score(merge.predicted_unitprice, merge.total_price) # 使用 r-square 評估\n",
    "\n",
    "print(\"MAE: \", mae)\n",
    "print(\"MSE: \", mse)\n",
    "print(\"R-square: \", r2)"
   ]
  }
 ],
 "metadata": {
  "kernelspec": {
   "display_name": "Python 3",
   "language": "python",
   "name": "python3"
  },
  "language_info": {
   "codemirror_mode": {
    "name": "ipython",
    "version": 3
   },
   "file_extension": ".py",
   "mimetype": "text/x-python",
   "name": "python",
   "nbconvert_exporter": "python",
   "pygments_lexer": "ipython3",
   "version": "3.7.1"
  }
 },
 "nbformat": 4,
 "nbformat_minor": 2
}
